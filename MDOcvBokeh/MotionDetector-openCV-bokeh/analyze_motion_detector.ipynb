{
 "cells": [
  {
   "cell_type": "code",
   "execution_count": 7,
   "id": "lovely-protocol",
   "metadata": {},
   "outputs": [],
   "source": [
    "import pandas\n",
    "from bokeh.io import curdoc\n",
    "from bokeh.plotting import figure, show, output_file, ColumnDataSource\n",
    "from bokeh.models import Range1d\n",
    "from bokeh.models.tools import HoverTool\n",
    "from bokeh.models.widgets import CheckboxGroup\n",
    "\n",
    "from motion_detector import df #runs motion_detector.py and grabs the df output\n",
    "\n",
    "curdoc().theme = 'dark_minimal'\n",
    "\n",
    "# print(df)"
   ]
  },
  {
   "cell_type": "code",
   "execution_count": 12,
   "id": "designing-church",
   "metadata": {},
   "outputs": [],
   "source": [
    "# add tooltip column, datetime as strings\n",
    "df[\"Enter_tooltip\"]=df[\"Enter\"].dt.strftime(\"%F %T.%3Nms\")\n",
    "df[\"Exit_tooltip\"]=df[\"Exit\"].dt.strftime(\"%F %T.%3Nms\")\n",
    "# print(df)\n",
    "\n",
    "source = ColumnDataSource(df)\n",
    "\n",
    "TOOLTIPS = [\n",
    "    (\"Enter\",\"@Enter_tooltip\"),\n",
    "    (\"Exit\",\"@Exit_tooltip\"),\n",
    "]\n",
    "\n",
    "hover_tool = HoverTool(tooltips=TOOLTIPS)\n",
    "\n",
    "f = figure(width=500, height=100, x_axis_type=\"datetime\", sizing_mode=\"scale_width\", \n",
    "           title=\"Activity Detected\")\n",
    "f.add_tools(hover_tool)\n",
    "\n",
    "f.y_range = Range1d(0,1)\n",
    "f.yaxis.ticker = [0,1]\n",
    "f.yaxis.visible=False\n",
    "\n",
    "f.xaxis.axis_label = \"Time\"\n",
    "f.xaxis.axis_label_text_font_style = \"bold\"\n",
    "f.xaxis.major_tick_line_color = 'black'\n",
    "f.xaxis.minor_tick_line_color = 'black'\n",
    "\n",
    "f.xgrid.minor_grid_line_color = '#e5e5e5'\n",
    "# print(f.xgrid.properties_with_values())\n",
    "\n",
    "d1=f.quad(left=\"Enter\", right=\"Exit\", top=1, bottom=0, \n",
    "          source=source, color=\"red\", alpha=0.5)\n",
    "\n",
    "output_file(\"graph.html\")\n",
    "\n",
    "show(f)"
   ]
  },
  {
   "cell_type": "code",
   "execution_count": null,
   "id": "comfortable-carroll",
   "metadata": {},
   "outputs": [],
   "source": [
    "f.properties()"
   ]
  },
  {
   "cell_type": "code",
   "execution_count": null,
   "id": "banner-checklist",
   "metadata": {},
   "outputs": [],
   "source": [
    "f.ygrid[0].ticker.desired_num_ticks"
   ]
  }
 ],
 "metadata": {
  "kernelspec": {
   "display_name": "Python 3",
   "language": "python",
   "name": "python3"
  },
  "language_info": {
   "codemirror_mode": {
    "name": "ipython",
    "version": 3
   },
   "file_extension": ".py",
   "mimetype": "text/x-python",
   "name": "python",
   "nbconvert_exporter": "python",
   "pygments_lexer": "ipython3",
   "version": "3.9.1"
  }
 },
 "nbformat": 4,
 "nbformat_minor": 5
}
